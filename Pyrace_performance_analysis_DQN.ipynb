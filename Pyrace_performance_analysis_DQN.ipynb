{
 "cells": [
  {
   "cell_type": "markdown",
   "metadata": {},
   "source": [
    "# IE Pyrace - Performance Analysis DQN"
   ]
  },
  {
   "cell_type": "code",
   "execution_count": 6,
   "metadata": {},
   "outputs": [],
   "source": [
    "# First cell of your notebook\n",
    "import matplotlib\n",
    "%matplotlib inline\n",
    "import matplotlib.pyplot as plt"
   ]
  },
  {
   "cell_type": "markdown",
   "metadata": {},
   "source": [
    "## Visualizing the policy"
   ]
  },
  {
   "cell_type": "markdown",
   "metadata": {},
   "source": [
    "### Tests of different forms of aggregation and scaling"
   ]
  },
  {
   "cell_type": "code",
   "execution_count": null,
   "metadata": {},
   "outputs": [],
   "source": [
    "import numpy as np\n",
    "import scipy\n",
    "from sklearn import preprocessing\n",
    "\n",
    "np.set_printoptions(precision=3)\n",
    "data = np.load(QTABLE,allow_pickle=True) # loading Object arrays\n",
    "print(data.shape)\n",
    "print('sparsity',F'{np.count_nonzero(data == 0)/data.size*100:.2f}')\n",
    "\n",
    "# axes 0..4 bucket values in each of the radar directions, axis=5 the 3 possible actions\n",
    "\n",
    "s0 = data.sum(axis=4).sum(axis=3).sum(axis=2).sum(axis=1)/11/11/11/11\n",
    "s1 = data.sum(axis=4).sum(axis=3).sum(axis=2).sum(axis=0)/11/11/11/11\n",
    "s2 = data.sum(axis=4).sum(axis=3).sum(axis=1).sum(axis=0)/11/11/11/11\n",
    "s3 = data.sum(axis=4).sum(axis=2).sum(axis=1).sum(axis=0)/11/11/11/11\n",
    "s4 = data.sum(axis=3).sum(axis=2).sum(axis=1).sum(axis=0)/11/11/11/11\n",
    "print('s0',s0.shape)\n",
    "\n",
    "def softmaxv(vec):\n",
    "    exp = np.exp(vec)\n",
    "    prob = exp / np.sum(exp)\n",
    "    return prob\n",
    "\n",
    "# Examples with uni-dimensional tensor\n",
    "print('EXAMPLES WITH UNI-DIMENSIONAL TENSOR')\n",
    "z = s0\n",
    "print('DATA',z[0])\n",
    "z_norm = preprocessing.normalize(z[0].reshape(1, -1)) # equivalent to normalize([s[0]])\n",
    "\n",
    "\"\"\"\n",
    "Reshape your data either using \n",
    "array.reshape(-1, 1) if your data has a single feature or \n",
    "array.reshape(1, -1) if it contains a single sample.\n",
    "\"\"\"\n",
    "s_minmax = preprocessing.MinMaxScaler()\n",
    "z_minmax = s_minmax.fit_transform(z[0].reshape(-1, 1)).reshape(1, -1)\n",
    "s_stdsc = preprocessing.StandardScaler()\n",
    "z_stdsc = s_stdsc.fit_transform(z[0].reshape(-1, 1)).reshape(1, -1)\n",
    "\n",
    "print('NORMALIZE',z_norm)\n",
    "print('MINMAX SCALER',z_minmax)\n",
    "print('STD SCALER',z_stdsc)\n",
    "print('softmaxv',softmaxv(z[0]))\n",
    "print('scipy',scipy.special.softmax(z[0]))\n",
    "\n",
    "print('EXAMPLES WITH TWO-DIMENSIONAL TENSOR')\n",
    "print('DATA\\n',z)\n",
    "z_norm = preprocessing.normalize(z)\n",
    "print('NORMALIZE\\n',z_norm)\n",
    "print('scipy\\n',scipy.special.softmax(z_norm,axis=1))\n",
    "z_minmax = s_minmax.fit_transform(z.T).T\n",
    "print('MINMAX\\n',z_minmax)\n",
    "print('scipy\\n',scipy.special.softmax(z_minmax,axis=1))\n",
    "z_stdsc = s_stdsc.fit_transform(z.T).T\n",
    "print('standard\\n',z_stdsc)\n",
    "print('scipy\\n',scipy.special.softmax(z_stdsc,axis=1))"
   ]
  },
  {
   "cell_type": "markdown",
   "metadata": {},
   "source": [
    "### Average aggregation + MinMax Scaling + Softmax"
   ]
  },
  {
   "cell_type": "code",
   "execution_count": 5,
   "metadata": {
    "scrolled": true
   },
   "outputs": [],
   "source": [
    "# TRANSFORM ALL DIRECTION TENSORS\n",
    "sz = np.array([scipy.special.softmax(s_minmax.fit_transform(s0.T).T,axis=1),\n",
    "               scipy.special.softmax(s_minmax.fit_transform(s1.T).T,axis=1),\n",
    "               scipy.special.softmax(s_minmax.fit_transform(s2.T).T,axis=1),\n",
    "               scipy.special.softmax(s_minmax.fit_transform(s3.T).T,axis=1),\n",
    "               scipy.special.softmax(s_minmax.fit_transform(s4.T).T,axis=1)])"
   ]
  },
  {
   "cell_type": "markdown",
   "metadata": {},
   "source": [
    "### Visualization"
   ]
  },
  {
   "cell_type": "code",
   "execution_count": null,
   "metadata": {
    "colab": {
     "base_uri": "https://localhost:8080/",
     "height": 238
    },
    "id": "WJAPwBoOcVgl",
    "outputId": "6c23aad3-c249-4279-d23d-1ee204b9226d",
    "scrolled": false
   },
   "outputs": [],
   "source": [
    "# import libraries\n",
    "import numpy as np\n",
    "import matplotlib.pyplot as plt\n",
    "import math\n",
    "from random import random\n",
    "\n",
    "α=0\n",
    "β=0\n",
    "γ=0\n",
    "ρ=0\n",
    "\n",
    "xs = []\n",
    "ys = []\n",
    "\n",
    "for a in range(5): # 0 is rigth... 4 is left\n",
    "    α = (90+(a-2)*360/5)*math.pi/180\n",
    "    xs.append(0)\n",
    "    ys.append(0)\n",
    "    for r in range(11):\n",
    "        ρ = r + 2\n",
    "        x0 = ρ*math.cos(α)\n",
    "        y0 = ρ*math.sin(α)\n",
    "        xs.append(x0)\n",
    "        ys.append(y0)\n",
    "        for b in [1,0,2]:\n",
    "            g = -1 if b==2 else b\n",
    "            β = -45*g*math.pi/180\n",
    "            x = x0 + 3 * math.cos(α+β) * sz[a][r][b] * 2\n",
    "            y = y0 + 3 * math.sin(α+β) * sz[a][r][b] * 2\n",
    "            xs.append(x)\n",
    "            ys.append(y)\n",
    "        xs.append(x0)\n",
    "        ys.append(y0)\n",
    "\n",
    "plt.figure(figsize=(12,12))        \n",
    "plt.plot(xs, ys)\n",
    "plt.title('POLICY REPRESENTATION')\n",
    "plt.show()"
   ]
  }
 ],
 "metadata": {
  "colab": {
   "provenance": []
  },
  "hide_input": false,
  "kernelspec": {
   "display_name": "reinforcement-learning",
   "language": "python",
   "name": "python3"
  },
  "language_info": {
   "codemirror_mode": {
    "name": "ipython",
    "version": 3
   },
   "file_extension": ".py",
   "mimetype": "text/x-python",
   "name": "python",
   "nbconvert_exporter": "python",
   "pygments_lexer": "ipython3",
   "version": "3.12.0"
  }
 },
 "nbformat": 4,
 "nbformat_minor": 1
}
