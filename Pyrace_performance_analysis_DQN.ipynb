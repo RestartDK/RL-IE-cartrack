{
 "cells": [
  {
   "cell_type": "markdown",
   "metadata": {},
   "source": [
    "# IE Pyrace - Performance Analysis"
   ]
  },
  {
   "cell_type": "code",
   "execution_count": 1,
   "metadata": {},
   "outputs": [],
   "source": [
    "VERSION_NAME = 'dqn_model' # the name for our model\n",
    "episode = 30000"
   ]
  },
  {
   "cell_type": "code",
   "execution_count": 2,
   "metadata": {
    "colab": {
     "base_uri": "https://localhost:8080/",
     "height": 153
    },
    "id": "yegv8Ow6Ihgf",
    "outputId": "65195885-6b79-43bf-81e7-cbc5c1276357",
    "scrolled": true
   },
   "outputs": [
    {
     "ename": "FileNotFoundError",
     "evalue": "[Errno 2] No such file or directory: 'models_QT_v02/memory_35000.npy'",
     "output_type": "error",
     "traceback": [
      "\u001b[0;31m---------------------------------------------------------------------------\u001b[0m",
      "\u001b[0;31mFileNotFoundError\u001b[0m                         Traceback (most recent call last)",
      "Cell \u001b[0;32mIn[2], line 8\u001b[0m\n\u001b[1;32m      6\u001b[0m ep \u001b[38;5;241m=\u001b[39m \u001b[38;5;241m0\u001b[39m\n\u001b[1;32m      7\u001b[0m episodes \u001b[38;5;241m=\u001b[39m []\n\u001b[0;32m----> 8\u001b[0m data \u001b[38;5;241m=\u001b[39m \u001b[43mnp\u001b[49m\u001b[38;5;241;43m.\u001b[39;49m\u001b[43mload\u001b[49m\u001b[43m(\u001b[49m\u001b[43mMEMORY\u001b[49m\u001b[43m,\u001b[49m\u001b[43mallow_pickle\u001b[49m\u001b[38;5;241;43m=\u001b[39;49m\u001b[38;5;28;43;01mTrue\u001b[39;49;00m\u001b[43m)\u001b[49m \u001b[38;5;66;03m# loading Object arrays\u001b[39;00m\n\u001b[1;32m      9\u001b[0m \u001b[38;5;28;01mfor\u001b[39;00m i \u001b[38;5;129;01min\u001b[39;00m \u001b[38;5;28mrange\u001b[39m(data\u001b[38;5;241m.\u001b[39mshape[\u001b[38;5;241m0\u001b[39m]):\n\u001b[1;32m     10\u001b[0m     \u001b[38;5;28;01mif\u001b[39;00m data[i,\u001b[38;5;241m4\u001b[39m]:\n",
      "File \u001b[0;32m~/.pyenv/versions/3.12.0/envs/reinforcement-learning/lib/python3.12/site-packages/numpy/lib/_npyio_impl.py:459\u001b[0m, in \u001b[0;36mload\u001b[0;34m(file, mmap_mode, allow_pickle, fix_imports, encoding, max_header_size)\u001b[0m\n\u001b[1;32m    457\u001b[0m     own_fid \u001b[38;5;241m=\u001b[39m \u001b[38;5;28;01mFalse\u001b[39;00m\n\u001b[1;32m    458\u001b[0m \u001b[38;5;28;01melse\u001b[39;00m:\n\u001b[0;32m--> 459\u001b[0m     fid \u001b[38;5;241m=\u001b[39m stack\u001b[38;5;241m.\u001b[39menter_context(\u001b[38;5;28;43mopen\u001b[39;49m\u001b[43m(\u001b[49m\u001b[43mos\u001b[49m\u001b[38;5;241;43m.\u001b[39;49m\u001b[43mfspath\u001b[49m\u001b[43m(\u001b[49m\u001b[43mfile\u001b[49m\u001b[43m)\u001b[49m\u001b[43m,\u001b[49m\u001b[43m \u001b[49m\u001b[38;5;124;43m\"\u001b[39;49m\u001b[38;5;124;43mrb\u001b[39;49m\u001b[38;5;124;43m\"\u001b[39;49m\u001b[43m)\u001b[49m)\n\u001b[1;32m    460\u001b[0m     own_fid \u001b[38;5;241m=\u001b[39m \u001b[38;5;28;01mTrue\u001b[39;00m\n\u001b[1;32m    462\u001b[0m \u001b[38;5;66;03m# Code to distinguish from NumPy binary files and pickles.\u001b[39;00m\n",
      "\u001b[0;31mFileNotFoundError\u001b[0m: [Errno 2] No such file or directory: 'models_QT_v02/memory_35000.npy'"
     ]
    }
   ],
   "source": [
    "#import required libraries\n",
    "import numpy as np\n",
    "import pandas as pd\n",
    "\n",
    "last = 0\n",
    "ep = 0\n",
    "episodes = []\n",
    "data = np.load(MEMORY,allow_pickle=True) # loading Object arrays\n",
    "for i in range(data.shape[0]):\n",
    "    if data[i,4]:\n",
    "        ep += 1\n",
    "        # print(ep,last,i,i-last,data[i])\n",
    "        episodes.append([ep,i-last,data[i][2]])\n",
    "        last = i\n",
    "\n",
    "df = pd.DataFrame(data=episodes, index=None, columns=['episode','steps','reward'])   \n",
    "# df"
   ]
  },
  {
   "cell_type": "code",
   "execution_count": null,
   "metadata": {
    "scrolled": false
   },
   "outputs": [],
   "source": [
    "import matplotlib.pyplot as plt\n",
    "from scipy.signal import savgol_filter\n",
    "yhat0 = savgol_filter(df.reward, int(episode/120), 3) # window size 50, polynomial order 3\n",
    "yhat1 = savgol_filter(df.reward, int(episode/30), 1)\n",
    "\n",
    "plt.figure(figsize=(16,6))\n",
    "# plt.plot(df.episode,df.reward)\n",
    "plt.plot(df.episode,yhat0)\n",
    "plt.plot(df.episode,yhat1)\n",
    "plt.title('AVERAGED REWARDS')\n",
    "plt.show()\n",
    "\n",
    "plt.figure(figsize=(16,6))\n",
    "df['z'] = np.where(df.reward > 0, (df.reward)/df.steps, (10000+df.reward)/df.steps)\n",
    "plt.plot(df.z.rolling(window=int(episode/15)).mean())\n",
    "plt.title('AVERAGED REWARD PER ACTION STEP')\n",
    "plt.show()"
   ]
  },
  {
   "cell_type": "markdown",
   "metadata": {},
   "source": [
    "## Visualizing the policy"
   ]
  },
  {
   "cell_type": "markdown",
   "metadata": {},
   "source": [
    "### Tests of different forms of aggregation and scaling"
   ]
  },
  {
   "cell_type": "code",
   "execution_count": null,
   "metadata": {},
   "outputs": [],
   "source": [
    "import numpy as np\n",
    "import scipy\n",
    "from sklearn import preprocessing\n",
    "\n",
    "np.set_printoptions(precision=3)\n",
    "data = np.load(QTABLE,allow_pickle=True) # loading Object arrays\n",
    "print(data.shape)\n",
    "print('sparsity',F'{np.count_nonzero(data == 0)/data.size*100:.2f}')\n",
    "\n",
    "# axes 0..4 bucket values in each of the radar directions, axis=5 the 3 possible actions\n",
    "\n",
    "s0 = data.sum(axis=4).sum(axis=3).sum(axis=2).sum(axis=1)/11/11/11/11\n",
    "s1 = data.sum(axis=4).sum(axis=3).sum(axis=2).sum(axis=0)/11/11/11/11\n",
    "s2 = data.sum(axis=4).sum(axis=3).sum(axis=1).sum(axis=0)/11/11/11/11\n",
    "s3 = data.sum(axis=4).sum(axis=2).sum(axis=1).sum(axis=0)/11/11/11/11\n",
    "s4 = data.sum(axis=3).sum(axis=2).sum(axis=1).sum(axis=0)/11/11/11/11\n",
    "print('s0',s0.shape)\n",
    "\n",
    "def softmaxv(vec):\n",
    "    exp = np.exp(vec)\n",
    "    prob = exp / np.sum(exp)\n",
    "    return prob\n",
    "\n",
    "# Examples with uni-dimensional tensor\n",
    "print('EXAMPLES WITH UNI-DIMENSIONAL TENSOR')\n",
    "z = s0\n",
    "print('DATA',z[0])\n",
    "z_norm = preprocessing.normalize(z[0].reshape(1, -1)) # equivalent to normalize([s[0]])\n",
    "\n",
    "\"\"\"\n",
    "Reshape your data either using \n",
    "array.reshape(-1, 1) if your data has a single feature or \n",
    "array.reshape(1, -1) if it contains a single sample.\n",
    "\"\"\"\n",
    "s_minmax = preprocessing.MinMaxScaler()\n",
    "z_minmax = s_minmax.fit_transform(z[0].reshape(-1, 1)).reshape(1, -1)\n",
    "s_stdsc = preprocessing.StandardScaler()\n",
    "z_stdsc = s_stdsc.fit_transform(z[0].reshape(-1, 1)).reshape(1, -1)\n",
    "\n",
    "print('NORMALIZE',z_norm)\n",
    "print('MINMAX SCALER',z_minmax)\n",
    "print('STD SCALER',z_stdsc)\n",
    "print('softmaxv',softmaxv(z[0]))\n",
    "print('scipy',scipy.special.softmax(z[0]))\n",
    "\n",
    "print('EXAMPLES WITH TWO-DIMENSIONAL TENSOR')\n",
    "print('DATA\\n',z)\n",
    "z_norm = preprocessing.normalize(z)\n",
    "print('NORMALIZE\\n',z_norm)\n",
    "print('scipy\\n',scipy.special.softmax(z_norm,axis=1))\n",
    "z_minmax = s_minmax.fit_transform(z.T).T\n",
    "print('MINMAX\\n',z_minmax)\n",
    "print('scipy\\n',scipy.special.softmax(z_minmax,axis=1))\n",
    "z_stdsc = s_stdsc.fit_transform(z.T).T\n",
    "print('standard\\n',z_stdsc)\n",
    "print('scipy\\n',scipy.special.softmax(z_stdsc,axis=1))"
   ]
  },
  {
   "cell_type": "markdown",
   "metadata": {},
   "source": [
    "### Average aggregation + MinMax Scaling + Softmax"
   ]
  },
  {
   "cell_type": "code",
   "execution_count": 5,
   "metadata": {
    "scrolled": true
   },
   "outputs": [],
   "source": [
    "# TRANSFORM ALL DIRECTION TENSORS\n",
    "sz = np.array([scipy.special.softmax(s_minmax.fit_transform(s0.T).T,axis=1),\n",
    "               scipy.special.softmax(s_minmax.fit_transform(s1.T).T,axis=1),\n",
    "               scipy.special.softmax(s_minmax.fit_transform(s2.T).T,axis=1),\n",
    "               scipy.special.softmax(s_minmax.fit_transform(s3.T).T,axis=1),\n",
    "               scipy.special.softmax(s_minmax.fit_transform(s4.T).T,axis=1)])"
   ]
  },
  {
   "cell_type": "markdown",
   "metadata": {},
   "source": [
    "### Visualization"
   ]
  },
  {
   "cell_type": "code",
   "execution_count": null,
   "metadata": {
    "colab": {
     "base_uri": "https://localhost:8080/",
     "height": 238
    },
    "id": "WJAPwBoOcVgl",
    "outputId": "6c23aad3-c249-4279-d23d-1ee204b9226d",
    "scrolled": false
   },
   "outputs": [],
   "source": [
    "# import libraries\n",
    "import numpy as np\n",
    "import matplotlib.pyplot as plt\n",
    "import math\n",
    "from random import random\n",
    "\n",
    "α=0\n",
    "β=0\n",
    "γ=0\n",
    "ρ=0\n",
    "\n",
    "xs = []\n",
    "ys = []\n",
    "\n",
    "for a in range(5): # 0 is rigth... 4 is left\n",
    "    α = (90+(a-2)*360/5)*math.pi/180\n",
    "    xs.append(0)\n",
    "    ys.append(0)\n",
    "    for r in range(11):\n",
    "        ρ = r + 2\n",
    "        x0 = ρ*math.cos(α)\n",
    "        y0 = ρ*math.sin(α)\n",
    "        xs.append(x0)\n",
    "        ys.append(y0)\n",
    "        for b in [1,0,2]:\n",
    "            g = -1 if b==2 else b\n",
    "            β = -45*g*math.pi/180\n",
    "            x = x0 + 3 * math.cos(α+β) * sz[a][r][b] * 2\n",
    "            y = y0 + 3 * math.sin(α+β) * sz[a][r][b] * 2\n",
    "            xs.append(x)\n",
    "            ys.append(y)\n",
    "        xs.append(x0)\n",
    "        ys.append(y0)\n",
    "\n",
    "plt.figure(figsize=(12,12))        \n",
    "plt.plot(xs, ys)\n",
    "plt.title('POLICY REPRESENTATION')\n",
    "plt.show()"
   ]
  }
 ],
 "metadata": {
  "colab": {
   "provenance": []
  },
  "hide_input": false,
  "kernelspec": {
   "display_name": "reinforcement-learning",
   "language": "python",
   "name": "python3"
  },
  "language_info": {
   "codemirror_mode": {
    "name": "ipython",
    "version": 3
   },
   "file_extension": ".py",
   "mimetype": "text/x-python",
   "name": "python",
   "nbconvert_exporter": "python",
   "pygments_lexer": "ipython3",
   "version": "3.12.0"
  }
 },
 "nbformat": 4,
 "nbformat_minor": 1
}
